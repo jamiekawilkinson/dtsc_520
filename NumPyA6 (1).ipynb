{
 "cells": [
  {
   "cell_type": "code",
   "execution_count": 1,
   "id": "d7964e28",
   "metadata": {},
   "outputs": [],
   "source": [
    "import numpy as np"
   ]
  },
  {
   "cell_type": "code",
   "execution_count": 2,
   "id": "b8ba99bb",
   "metadata": {},
   "outputs": [],
   "source": [
    "np.random.seed(100)"
   ]
  },
  {
   "cell_type": "code",
   "execution_count": 3,
   "id": "cf9f7715",
   "metadata": {},
   "outputs": [],
   "source": [
    "x = np.random.random(20)"
   ]
  },
  {
   "cell_type": "code",
   "execution_count": 4,
   "id": "e56e93d1",
   "metadata": {},
   "outputs": [],
   "source": [
    "Q1 = np.sum(x)"
   ]
  },
  {
   "cell_type": "code",
   "execution_count": 5,
   "id": "861701f0",
   "metadata": {},
   "outputs": [],
   "source": [
    "Q2 = np.max(x)"
   ]
  },
  {
   "cell_type": "code",
   "execution_count": 6,
   "id": "42a09842",
   "metadata": {},
   "outputs": [],
   "source": [
    "y = np.random.random((4,5))"
   ]
  },
  {
   "cell_type": "code",
   "execution_count": 7,
   "id": "1845232b",
   "metadata": {},
   "outputs": [],
   "source": [
    "Q3 = np.min(y, axis=1)"
   ]
  },
  {
   "cell_type": "code",
   "execution_count": 8,
   "id": "f707322f",
   "metadata": {},
   "outputs": [],
   "source": [
    "Q4 = np.mean(y)"
   ]
  },
  {
   "cell_type": "code",
   "execution_count": 9,
   "id": "c1142eb9",
   "metadata": {},
   "outputs": [],
   "source": [
    "z = np.array([2,3, np.nan, 5])"
   ]
  },
  {
   "cell_type": "code",
   "execution_count": 10,
   "id": "920a2c4f",
   "metadata": {},
   "outputs": [],
   "source": [
    "Q5 = np.nansum(z)"
   ]
  },
  {
   "cell_type": "code",
   "execution_count": 11,
   "id": "937f0239",
   "metadata": {},
   "outputs": [],
   "source": [
    "a = np.random.random(4)"
   ]
  },
  {
   "cell_type": "code",
   "execution_count": 12,
   "id": "e6691a81",
   "metadata": {},
   "outputs": [],
   "source": [
    "b = np.random.random(4)"
   ]
  },
  {
   "cell_type": "code",
   "execution_count": 13,
   "id": "d9c8f3de",
   "metadata": {},
   "outputs": [],
   "source": [
    "Q6 = np.concatenate((a,b), axis=None)"
   ]
  },
  {
   "cell_type": "code",
   "execution_count": 14,
   "id": "25f30739",
   "metadata": {},
   "outputs": [],
   "source": [
    "q7 = np.random.random((4,4))\n",
    "Q7 = np.concatenate((q7,q7))"
   ]
  },
  {
   "cell_type": "code",
   "execution_count": 15,
   "id": "7c59dd97",
   "metadata": {},
   "outputs": [],
   "source": [
    "q8 = np.random.random((2,4))\n",
    "Q8 = np.vstack([q7, q8])"
   ]
  },
  {
   "cell_type": "code",
   "execution_count": 16,
   "id": "2570f709",
   "metadata": {},
   "outputs": [],
   "source": [
    "Q9 = np.vstack((q7,q7,q7,q8,q8))"
   ]
  },
  {
   "cell_type": "code",
   "execution_count": 17,
   "id": "13e6c45e",
   "metadata": {},
   "outputs": [],
   "source": [
    "x = np.random.random((2,1))\n",
    "Q10 = np.hstack((q8, x))"
   ]
  },
  {
   "cell_type": "code",
   "execution_count": 18,
   "id": "75d39800",
   "metadata": {},
   "outputs": [],
   "source": [
    "#Create an array of twenty random numbers called q11.  \n",
    "#At the fifth value, split this array into two.  \n",
    "#Assign the first part to Q11a and the second part to Q11b.\n",
    "\n",
    "q11 = np.random.random(20)\n",
    "q11a = np.array_split(q11,[5])"
   ]
  },
  {
   "cell_type": "code",
   "execution_count": 19,
   "id": "fdc95445",
   "metadata": {},
   "outputs": [],
   "source": [
    "Q11a = q11a[0]"
   ]
  },
  {
   "cell_type": "code",
   "execution_count": 20,
   "id": "91adfabf",
   "metadata": {},
   "outputs": [],
   "source": [
    "Q11b = q11a[1]"
   ]
  },
  {
   "cell_type": "code",
   "execution_count": 21,
   "id": "a3188d71",
   "metadata": {},
   "outputs": [],
   "source": [
    "#Split q11 into three parts at the the tenth and fifteenth values.\n",
    "#Assign the first part to Q12a, the second part to Q12b, and the third part to Q12c.\n",
    "\n",
    "q11b = np.array_split(q11,[10,15])\n",
    "Q12a = q11b[0]\n",
    "Q12b = q11b[1]\n",
    "Q12c = q11b[2]"
   ]
  },
  {
   "cell_type": "code",
   "execution_count": 22,
   "id": "21b25332",
   "metadata": {},
   "outputs": [
    {
     "data": {
      "text/plain": [
       "[array([[0.45697913, 0.65894007, 0.25425752, 0.64110126, 0.20012361],\n",
       "        [0.65762481, 0.77828922, 0.7795984 , 0.61032815, 0.30900035],\n",
       "        [0.69773491, 0.8596183 , 0.62532376, 0.98240783, 0.97650013]]),\n",
       " array([[0.16669413, 0.02317814, 0.16074455, 0.92349683, 0.95354985],\n",
       "        [0.21097842, 0.36052525, 0.54937526, 0.27183085, 0.46060162]])]"
      ]
     },
     "execution_count": 22,
     "metadata": {},
     "output_type": "execute_result"
    }
   ],
   "source": [
    "#Create a five by five array of random numbers called q13.\n",
    "#At the fourth array, vertically split this array into two.  \n",
    "#Assign the first part to Q13a and the second part to Q13b.\n",
    "\n",
    "q13 = np.random.random((5,5))\n",
    "q13a = np.vsplit(q13,[3])\n",
    "Q13a = q13a[0]\n",
    "Q13b = q13a[1]\n",
    "\n",
    "q14 = np.hsplit(q13,[3])\n",
    "Q14a = q14[0]\n",
    "Q14b = q14[1]"
   ]
  }
 ],
 "metadata": {
  "kernelspec": {
   "display_name": "Python 3 (ipykernel)",
   "language": "python",
   "name": "python3"
  },
  "language_info": {
   "codemirror_mode": {
    "name": "ipython",
    "version": 3
   },
   "file_extension": ".py",
   "mimetype": "text/x-python",
   "name": "python",
   "nbconvert_exporter": "python",
   "pygments_lexer": "ipython3",
   "version": "3.9.12"
  }
 },
 "nbformat": 4,
 "nbformat_minor": 5
}
