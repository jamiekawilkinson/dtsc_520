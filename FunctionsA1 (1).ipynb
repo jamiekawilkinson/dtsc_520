{
 "cells": [
  {
   "cell_type": "code",
   "execution_count": 1,
   "id": "0e8f5963",
   "metadata": {},
   "outputs": [
    {
     "data": {
      "text/plain": [
       "'Hello World'"
      ]
     },
     "execution_count": 1,
     "metadata": {},
     "output_type": "execute_result"
    }
   ],
   "source": [
    "def Q1():\n",
    "    print('Hello World')\n",
    "    return"
   ]
  },
  {
   "cell_type": "code",
   "execution_count": 16,
   "id": "88ca20dd",
   "metadata": {},
   "outputs": [
    {
     "data": {
      "text/plain": [
       "'Eastern University'"
      ]
     },
     "execution_count": 16,
     "metadata": {},
     "output_type": "execute_result"
    }
   ],
   "source": [
    "def Q2():\n",
    "    print('Eastern University')\n",
    "    return"
   ]
  },
  {
   "cell_type": "code",
   "execution_count": 27,
   "id": "72bb35f2",
   "metadata": {},
   "outputs": [
    {
     "name": "stdout",
     "output_type": "stream",
     "text": [
      "Type a number: 5\n"
     ]
    },
    {
     "data": {
      "text/plain": [
       "'5'"
      ]
     },
     "execution_count": 27,
     "metadata": {},
     "output_type": "execute_result"
    }
   ],
   "source": [
    "def Q3(num):\n",
    "    print(num)\n",
    "    return\n",
    "# Q3(num = input('Type a number: '))"
   ]
  },
  {
   "cell_type": "code",
   "execution_count": 11,
   "id": "2ed8386c",
   "metadata": {},
   "outputs": [
    {
     "name": "stdout",
     "output_type": "stream",
     "text": [
      "Type a number: 5\n"
     ]
    },
    {
     "data": {
      "text/plain": [
       "25"
      ]
     },
     "execution_count": 11,
     "metadata": {},
     "output_type": "execute_result"
    }
   ],
   "source": [
    "def Q4(num):\n",
    "    return(num**2)"
   ]
  },
  {
   "cell_type": "code",
   "execution_count": 2,
   "id": "39b46194",
   "metadata": {},
   "outputs": [
    {
     "name": "stdout",
     "output_type": "stream",
     "text": [
      "Type a number: 2\n"
     ]
    },
    {
     "data": {
      "text/plain": [
       "8"
      ]
     },
     "execution_count": 2,
     "metadata": {},
     "output_type": "execute_result"
    }
   ],
   "source": [
    "def Q5(num):\n",
    "    return(num**3)"
   ]
  },
  {
   "cell_type": "code",
   "execution_count": 4,
   "id": "37dcc2eb",
   "metadata": {},
   "outputs": [
    {
     "name": "stdout",
     "output_type": "stream",
     "text": [
      "Type a number: 6\n",
      "The argument is 6\n"
     ]
    }
   ],
   "source": [
    "def Q6(num):\n",
    "    print('The argument is', num )\n",
    "    return"
   ]
  },
  {
   "cell_type": "code",
   "execution_count": null,
   "id": "c624f79e",
   "metadata": {},
   "outputs": [],
   "source": [
    "def Q7(num1, num2):\n",
    "    return num1 - num2"
   ]
  },
  {
   "cell_type": "code",
   "execution_count": null,
   "id": "0ffaf65d",
   "metadata": {},
   "outputs": [],
   "source": [
    "def Q8(num1,num2,num3,num4,num5):\n",
    "   return num1*num2*num3*num4*num5"
   ]
  },
  {
   "cell_type": "code",
   "execution_count": null,
   "id": "382bfea1",
   "metadata": {},
   "outputs": [],
   "source": [
    "def Q9(num):\n",
    "    for i in range(num):\n",
    "        print(i)\n",
    "    return"
   ]
  }
 ],
 "metadata": {
  "kernelspec": {
   "display_name": "Python 3 (ipykernel)",
   "language": "python",
   "name": "python3"
  },
  "language_info": {
   "codemirror_mode": {
    "name": "ipython",
    "version": 3
   },
   "file_extension": ".py",
   "mimetype": "text/x-python",
   "name": "python",
   "nbconvert_exporter": "python",
   "pygments_lexer": "ipython3",
   "version": "3.9.12"
  }
 },
 "nbformat": 4,
 "nbformat_minor": 5
}
