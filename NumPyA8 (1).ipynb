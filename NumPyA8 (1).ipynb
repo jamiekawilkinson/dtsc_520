{
 "cells": [
  {
   "cell_type": "code",
   "execution_count": 1,
   "id": "43062a48",
   "metadata": {},
   "outputs": [],
   "source": [
    "import numpy as np"
   ]
  },
  {
   "cell_type": "code",
   "execution_count": 29,
   "id": "94eeae5a",
   "metadata": {},
   "outputs": [
    {
     "data": {
      "text/plain": [
       "{'One': 'A', 'Two': 'B', 'Three': 'C', 'Four': 'D'}"
      ]
     },
     "execution_count": 29,
     "metadata": {},
     "output_type": "execute_result"
    }
   ],
   "source": [
    "q1 = {'One':'A','Two':'B','Three':'C','Four':'D'}\n",
    "Q1 = q1['Three']"
   ]
  },
  {
   "cell_type": "code",
   "execution_count": 28,
   "id": "aa139de4",
   "metadata": {},
   "outputs": [
    {
     "data": {
      "text/plain": [
       "{'Five': 'E', 'Six': 'F', 'Seven': 'G'}"
      ]
     },
     "execution_count": 28,
     "metadata": {},
     "output_type": "execute_result"
    }
   ],
   "source": [
    "Q2 = {'Five':'E','Six':'F'}\n",
    "Q2['Seven']='G'"
   ]
  },
  {
   "cell_type": "code",
   "execution_count": 5,
   "id": "739f1273",
   "metadata": {},
   "outputs": [
    {
     "data": {
      "text/plain": [
       "{'Eight': 'H'}"
      ]
     },
     "execution_count": 5,
     "metadata": {},
     "output_type": "execute_result"
    }
   ],
   "source": [
    "Q3 = {'Eight':'H'}"
   ]
  },
  {
   "cell_type": "code",
   "execution_count": 6,
   "id": "f4d58880",
   "metadata": {},
   "outputs": [],
   "source": [
    "del Q3['Eight']"
   ]
  },
  {
   "cell_type": "code",
   "execution_count": 7,
   "id": "169ee37f",
   "metadata": {},
   "outputs": [],
   "source": [
    "Q4 = {'Nine':'I','Ten':'J'}\n",
    "Q4['Ten']='K'"
   ]
  },
  {
   "cell_type": "code",
   "execution_count": 32,
   "id": "67952aad",
   "metadata": {},
   "outputs": [],
   "source": [
    "def Q5():\n",
    "    for i in q1.values():\n",
    "        print(i)\n",
    "    return"
   ]
  },
  {
   "cell_type": "code",
   "execution_count": 34,
   "id": "4318162f",
   "metadata": {},
   "outputs": [
    {
     "name": "stdout",
     "output_type": "stream",
     "text": [
      "One\n",
      "Two\n",
      "Three\n",
      "Four\n"
     ]
    }
   ],
   "source": [
    "def Q6():\n",
    "    for i in q1.keys():\n",
    "        print(i)\n",
    "    return"
   ]
  },
  {
   "cell_type": "code",
   "execution_count": 26,
   "id": "672478f5",
   "metadata": {},
   "outputs": [
    {
     "data": {
      "text/plain": [
       "{'Least Favorite': {'Fruit': 'Grape', 'Color': 'Purple'},\n",
       " 'Medium Favorite': {'Fruit': 'Apple', 'Color': 'Red'},\n",
       " 'Most Favorite': {'Fruit': 'Banana', 'Color': 'Yellow'}}"
      ]
     },
     "execution_count": 26,
     "metadata": {},
     "output_type": "execute_result"
    }
   ],
   "source": [
    "Q7 = {\n",
    "    'Least Favorite' : {\n",
    "        'Fruit':'Grape',\n",
    "        'Color':'Purple'\n",
    "    },\n",
    "    'Medium Favorite':{\n",
    "        'Fruit':'Apple',\n",
    "        'Color':'Red'\n",
    "    },\n",
    "    'Most Favorite':{\n",
    "        'Fruit':'Banana',\n",
    "        'Color':'Yellow'\n",
    "    }\n",
    "    \n",
    "}"
   ]
  },
  {
   "cell_type": "code",
   "execution_count": null,
   "id": "1e358e41",
   "metadata": {},
   "outputs": [],
   "source": []
  }
 ],
 "metadata": {
  "kernelspec": {
   "display_name": "Python 3 (ipykernel)",
   "language": "python",
   "name": "python3"
  },
  "language_info": {
   "codemirror_mode": {
    "name": "ipython",
    "version": 3
   },
   "file_extension": ".py",
   "mimetype": "text/x-python",
   "name": "python",
   "nbconvert_exporter": "python",
   "pygments_lexer": "ipython3",
   "version": "3.9.12"
  }
 },
 "nbformat": 4,
 "nbformat_minor": 5
}
