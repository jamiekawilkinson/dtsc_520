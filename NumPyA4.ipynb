{
 "cells": [
  {
   "cell_type": "code",
   "execution_count": 1,
   "id": "842a9f3a",
   "metadata": {},
   "outputs": [],
   "source": [
    "import numpy as np"
   ]
  },
  {
   "cell_type": "code",
   "execution_count": 2,
   "id": "02f54068",
   "metadata": {},
   "outputs": [],
   "source": [
    "Q1 = np.zeros(20, dtype=float)"
   ]
  },
  {
   "cell_type": "code",
   "execution_count": 3,
   "id": "5188a1ca",
   "metadata": {},
   "outputs": [],
   "source": [
    "Q2 = np.ones((4,5), dtype = int)"
   ]
  },
  {
   "cell_type": "code",
   "execution_count": 4,
   "id": "8933d410",
   "metadata": {},
   "outputs": [],
   "source": [
    "Q3 = np.full((2,5), 2, dtype=float)"
   ]
  },
  {
   "cell_type": "code",
   "execution_count": 5,
   "id": "19b06ed2",
   "metadata": {},
   "outputs": [],
   "source": [
    "Q4 = np.arange(50, dtype=float)"
   ]
  },
  {
   "cell_type": "code",
   "execution_count": 6,
   "id": "3ad99a6b",
   "metadata": {},
   "outputs": [],
   "source": [
    "Q5 = np.arange(4,18.25, 1.75)"
   ]
  },
  {
   "cell_type": "code",
   "execution_count": 7,
   "id": "e04866b6",
   "metadata": {},
   "outputs": [],
   "source": [
    "Q6 = np.eye((5), dtype=int)"
   ]
  },
  {
   "cell_type": "code",
   "execution_count": 8,
   "id": "c48d66a8",
   "metadata": {},
   "outputs": [],
   "source": [
    "np.random.seed(10)\n",
    "Q7 = np.random.random((4,2))"
   ]
  },
  {
   "cell_type": "code",
   "execution_count": 9,
   "id": "aa749a53",
   "metadata": {},
   "outputs": [
    {
     "data": {
      "text/plain": [
       "array([[[14, 12, 14,  5,  6],\n",
       "        [ 8, 11,  6, 13,  1]],\n",
       "\n",
       "       [[ 6,  4, 11,  8, 10],\n",
       "        [ 1,  8,  5, 11,  1]],\n",
       "\n",
       "       [[13, 12,  0, 12, 14],\n",
       "        [11,  8, 10,  8, 13]],\n",
       "\n",
       "       [[14, 10, 12,  8, 12],\n",
       "        [ 2,  6,  8,  1,  8]]])"
      ]
     },
     "execution_count": 9,
     "metadata": {},
     "output_type": "execute_result"
    }
   ],
   "source": [
    "np.random.seed(9)\n",
    "Q8 = np.random.randint(0,16,(4,2,5))"
   ]
  },
  {
   "cell_type": "code",
   "execution_count": 11,
   "id": "9ad91612",
   "metadata": {},
   "outputs": [
    {
     "data": {
      "text/plain": [
       "40"
      ]
     },
     "execution_count": 11,
     "metadata": {},
     "output_type": "execute_result"
    }
   ],
   "source": [
    "Q9 = np.size(Q8)"
   ]
  },
  {
   "cell_type": "code",
   "execution_count": null,
   "id": "6b40f41d",
   "metadata": {},
   "outputs": [],
   "source": []
  }
 ],
 "metadata": {
  "kernelspec": {
   "display_name": "Python 3 (ipykernel)",
   "language": "python",
   "name": "python3"
  },
  "language_info": {
   "codemirror_mode": {
    "name": "ipython",
    "version": 3
   },
   "file_extension": ".py",
   "mimetype": "text/x-python",
   "name": "python",
   "nbconvert_exporter": "python",
   "pygments_lexer": "ipython3",
   "version": "3.9.12"
  }
 },
 "nbformat": 4,
 "nbformat_minor": 5
}
