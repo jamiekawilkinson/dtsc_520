{
 "cells": [
  {
   "cell_type": "code",
   "execution_count": 1,
   "id": "62975fa6",
   "metadata": {},
   "outputs": [],
   "source": [
    "import numpy as np"
   ]
  },
  {
   "cell_type": "code",
   "execution_count": 2,
   "id": "8f9a0f23",
   "metadata": {},
   "outputs": [],
   "source": [
    "# Create an array of even integers two through sixteen called q1.\n",
    "# Index that array to obtain the following [14,6,12]\n",
    "\n",
    "q1 = np.arange(2,17,2)\n",
    "Q1 = [q1[6],q1[2],q1[5]]"
   ]
  },
  {
   "cell_type": "code",
   "execution_count": 3,
   "id": "210ebcd7",
   "metadata": {},
   "outputs": [],
   "source": [
    "# Create the following array called q2\n",
    "# Then index q1 with q2.  Assign it to Q2.\n",
    "\n",
    "q2 = np.array([[1,3,2],[0,7,4]])\n",
    "Q2 = q1[q2]"
   ]
  },
  {
   "cell_type": "code",
   "execution_count": 4,
   "id": "5617b96b",
   "metadata": {},
   "outputs": [],
   "source": [
    "# Reshape q1 into a four by two array.  Assign it to Q3.\n",
    "\n",
    "Q3 = np.reshape(q1,(4,2))"
   ]
  },
  {
   "cell_type": "code",
   "execution_count": 5,
   "id": "de2ea09d",
   "metadata": {},
   "outputs": [],
   "source": [
    "# Index Q3 to obtain the following array: [4,2]\n",
    "\n",
    "Q4 = np.array([Q3[0,1],Q3[0,0]])"
   ]
  },
  {
   "cell_type": "code",
   "execution_count": 6,
   "id": "224b8e9a",
   "metadata": {},
   "outputs": [],
   "source": [
    "# Index Q3 to obtaining the following array:\n",
    "\n",
    "Q5 = np.array([[Q3[0,0]],[Q3[1,0]]])"
   ]
  },
  {
   "cell_type": "code",
   "execution_count": 7,
   "id": "a59789e2",
   "metadata": {},
   "outputs": [
    {
     "data": {
      "text/plain": [
       "array([0, 1, 1, 1, 3, 4, 4, 9, 9, 9])"
      ]
     },
     "execution_count": 7,
     "metadata": {},
     "output_type": "execute_result"
    }
   ],
   "source": [
    "#Set a random seed of 6.  \n",
    "#Create an array of ten random integers 0 through 9. Then sort the array so the values are in numerical order. Assign it to Q6.\n",
    "#Create a four by five array of random integers 0 through 9 and call it q7. \n",
    "#Then sort the array by columns.  Assign it to Q7.\n",
    "#Now sort the q7 array by rows.  Assign it to Q8.\n",
    "\n",
    "np.random.seed(6)\n",
    "q6 = np.random.randint(10, size=10)\n",
    "Q6 = np.sort(q6,axis=None)"
   ]
  },
  {
   "cell_type": "code",
   "execution_count": 8,
   "id": "c4199f29",
   "metadata": {},
   "outputs": [
    {
     "data": {
      "text/plain": [
       "array([[2, 2, 4, 5, 8],\n",
       "       [2, 5, 5, 6, 9],\n",
       "       [0, 1, 2, 4, 5],\n",
       "       [2, 3, 5, 5, 9]])"
      ]
     },
     "execution_count": 8,
     "metadata": {},
     "output_type": "execute_result"
    }
   ],
   "source": [
    "q7 = np.random.randint(10,size=(4,5))\n",
    "Q7 = np.sort(q7,axis=0)"
   ]
  },
  {
   "cell_type": "code",
   "execution_count": 9,
   "id": "8f2c46d0",
   "metadata": {},
   "outputs": [
    {
     "data": {
      "text/plain": [
       "array([[1, 2, 2, 0, 2],\n",
       "       [2, 3, 4, 2, 5],\n",
       "       [8, 4, 5, 5, 5],\n",
       "       [9, 6, 5, 9, 5]])"
      ]
     },
     "execution_count": 9,
     "metadata": {},
     "output_type": "execute_result"
    }
   ],
   "source": [
    "Q8 = np.sort(q7,axis=1)"
   ]
  },
  {
   "cell_type": "code",
   "execution_count": 10,
   "id": "00292108",
   "metadata": {},
   "outputs": [
    {
     "data": {
      "text/plain": [
       "array([('Grape', 'Purple', 3), ('Apple', 'Red', 2),\n",
       "       ('Banana', 'Yellow', 1)],\n",
       "      dtype=[('Fruit', '<U20'), ('Color', '<U20'), ('Ranking', '<i2')])"
      ]
     },
     "execution_count": 10,
     "metadata": {},
     "output_type": "execute_result"
    }
   ],
   "source": [
    "q9 = np.array([('Grape','Purple',3), ('Apple','Red',2), ('Banana','Yellow',1)], dtype=[('Fruit', 'U20'), ('Color', 'U20'), ('Ranking', 'int16')])"
   ]
  },
  {
   "cell_type": "code",
   "execution_count": 12,
   "id": "85f58c03",
   "metadata": {},
   "outputs": [
    {
     "data": {
      "text/plain": [
       "array(['Purple', 'Red', 'Yellow'], dtype='<U20')"
      ]
     },
     "execution_count": 12,
     "metadata": {},
     "output_type": "execute_result"
    }
   ],
   "source": [
    "Q9 = q9['Color']"
   ]
  },
  {
   "cell_type": "code",
   "execution_count": 13,
   "id": "87caedb2",
   "metadata": {},
   "outputs": [
    {
     "data": {
      "text/plain": [
       "('Banana', 'Yellow', 1)"
      ]
     },
     "execution_count": 13,
     "metadata": {},
     "output_type": "execute_result"
    }
   ],
   "source": [
    "Q10 = q9[2]"
   ]
  },
  {
   "cell_type": "code",
   "execution_count": 18,
   "id": "c1fa2612",
   "metadata": {},
   "outputs": [
    {
     "data": {
      "text/plain": [
       "array([('Apple', 'Red', 2), ('Banana', 'Yellow', 1)],\n",
       "      dtype=[('Fruit', '<U20'), ('Color', '<U20'), ('Ranking', '<i2')])"
      ]
     },
     "execution_count": 18,
     "metadata": {},
     "output_type": "execute_result"
    }
   ],
   "source": [
    "# Index q9 by all Ranking’s less than 3.  Assign it to Q11.\n",
    "\n",
    "Q11 = q9[q9['Ranking'] < 3]"
   ]
  },
  {
   "cell_type": "code",
   "execution_count": null,
   "id": "5b3fc743",
   "metadata": {},
   "outputs": [],
   "source": []
  }
 ],
 "metadata": {
  "kernelspec": {
   "display_name": "Python 3 (ipykernel)",
   "language": "python",
   "name": "python3"
  },
  "language_info": {
   "codemirror_mode": {
    "name": "ipython",
    "version": 3
   },
   "file_extension": ".py",
   "mimetype": "text/x-python",
   "name": "python",
   "nbconvert_exporter": "python",
   "pygments_lexer": "ipython3",
   "version": "3.9.12"
  }
 },
 "nbformat": 4,
 "nbformat_minor": 5
}
