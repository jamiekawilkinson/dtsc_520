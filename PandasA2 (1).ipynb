{
 "cells": [
  {
   "cell_type": "code",
   "execution_count": 1,
   "id": "82a6bb79",
   "metadata": {},
   "outputs": [],
   "source": [
    "import numpy as np\n",
    "import pandas as pd"
   ]
  },
  {
   "cell_type": "code",
   "execution_count": 2,
   "id": "d89ccb83",
   "metadata": {},
   "outputs": [],
   "source": [
    "# Create a series containing odd numbers 3 to 11.\n",
    "q1 = pd.Series(range(3,12,2))\n",
    "\n",
    "# Assign just the values of the series to Q1.\n",
    "Q1 = q1.values\n",
    "\n",
    "# Assign just the indices of the series to Q2. \n",
    "Q2 = q1.index"
   ]
  },
  {
   "cell_type": "code",
   "execution_count": 29,
   "id": "c76a8ba6",
   "metadata": {},
   "outputs": [
    {
     "data": {
      "text/plain": [
       "7"
      ]
     },
     "execution_count": 29,
     "metadata": {},
     "output_type": "execute_result"
    }
   ],
   "source": [
    "# Index to obtain the third value of the series.  Assign it to Q3. \n",
    "\n",
    "Q3 = q1[2]"
   ]
  },
  {
   "cell_type": "code",
   "execution_count": 7,
   "id": "42757e95",
   "metadata": {},
   "outputs": [
    {
     "data": {
      "text/plain": [
       "2    7\n",
       "3    9\n",
       "dtype: int64"
      ]
     },
     "execution_count": 7,
     "metadata": {},
     "output_type": "execute_result"
    }
   ],
   "source": [
    "# Slice the series to obtain the following:\n",
    "\n",
    "Q4 = q1.loc[2:3]"
   ]
  },
  {
   "cell_type": "code",
   "execution_count": 10,
   "id": "cbfe171d",
   "metadata": {},
   "outputs": [
    {
     "data": {
      "text/plain": [
       "three      3\n",
       "five       5\n",
       "seven      7\n",
       "nine       9\n",
       "eleven    11\n",
       "dtype: int64"
      ]
     },
     "execution_count": 10,
     "metadata": {},
     "output_type": "execute_result"
    }
   ],
   "source": [
    "Q5 = pd.Series([3,5,7,9,11], \n",
    "               index=['three','five','seven','nine','eleven'])"
   ]
  },
  {
   "cell_type": "code",
   "execution_count": 11,
   "id": "e2f427dd",
   "metadata": {},
   "outputs": [
    {
     "data": {
      "text/plain": [
       "Da     ta\n",
       "Sc     ie\n",
       "nc     ef\n",
       "or    all\n",
       "dtype: object"
      ]
     },
     "execution_count": 11,
     "metadata": {},
     "output_type": "execute_result"
    }
   ],
   "source": [
    "q6_dict = {'Da':'ta', 'Sc':'ie', 'nc':'ef', 'or':'all'}\n",
    "Q6 = pd.Series(q6_dict)"
   ]
  },
  {
   "cell_type": "code",
   "execution_count": 12,
   "id": "207d34d3",
   "metadata": {},
   "outputs": [
    {
     "data": {
      "text/plain": [
       "'ef'"
      ]
     },
     "execution_count": 12,
     "metadata": {},
     "output_type": "execute_result"
    }
   ],
   "source": [
    "Q7 = Q6['nc']"
   ]
  },
  {
   "cell_type": "code",
   "execution_count": 15,
   "id": "7ebeb1be",
   "metadata": {},
   "outputs": [
    {
     "data": {
      "text/plain": [
       "Sc     ie\n",
       "nc     ef\n",
       "or    all\n",
       "dtype: object"
      ]
     },
     "execution_count": 15,
     "metadata": {},
     "output_type": "execute_result"
    }
   ],
   "source": [
    "Q8 = Q6[1:4]"
   ]
  },
  {
   "cell_type": "code",
   "execution_count": 22,
   "id": "9c353e70",
   "metadata": {},
   "outputs": [
    {
     "data": {
      "text/html": [
       "<div>\n",
       "<style scoped>\n",
       "    .dataframe tbody tr th:only-of-type {\n",
       "        vertical-align: middle;\n",
       "    }\n",
       "\n",
       "    .dataframe tbody tr th {\n",
       "        vertical-align: top;\n",
       "    }\n",
       "\n",
       "    .dataframe thead th {\n",
       "        text-align: right;\n",
       "    }\n",
       "</style>\n",
       "<table border=\"1\" class=\"dataframe\">\n",
       "  <thead>\n",
       "    <tr style=\"text-align: right;\">\n",
       "      <th></th>\n",
       "      <th>lowercase</th>\n",
       "      <th>numbers</th>\n",
       "    </tr>\n",
       "  </thead>\n",
       "  <tbody>\n",
       "    <tr>\n",
       "      <th>A</th>\n",
       "      <td>a</td>\n",
       "      <td>1</td>\n",
       "    </tr>\n",
       "    <tr>\n",
       "      <th>B</th>\n",
       "      <td>b</td>\n",
       "      <td>2</td>\n",
       "    </tr>\n",
       "    <tr>\n",
       "      <th>C</th>\n",
       "      <td>c</td>\n",
       "      <td>3</td>\n",
       "    </tr>\n",
       "  </tbody>\n",
       "</table>\n",
       "</div>"
      ],
      "text/plain": [
       "  lowercase  numbers\n",
       "A         a        1\n",
       "B         b        2\n",
       "C         c        3"
      ]
     },
     "execution_count": 22,
     "metadata": {},
     "output_type": "execute_result"
    }
   ],
   "source": [
    "q9_dict1 = {'A':'a','B':'b','C':'c'}\n",
    "q9_dict2 = {'A':1,'B':2,'C':3}\n",
    "\n",
    "q9_series = pd.Series(q9_dict1, q9_dict2)\n",
    "\n",
    "Q9 = pd.DataFrame({\n",
    "    'lowercase':q9_dict1,\n",
    "    'numbers':q9_dict2\n",
    "})"
   ]
  },
  {
   "cell_type": "code",
   "execution_count": 24,
   "id": "4a264201",
   "metadata": {},
   "outputs": [
    {
     "data": {
      "text/plain": [
       "Index(['lowercase', 'numbers'], dtype='object')"
      ]
     },
     "execution_count": 24,
     "metadata": {},
     "output_type": "execute_result"
    }
   ],
   "source": [
    "# Assign Q9’s row and column indices to Q10 and Q11, respectively.\n",
    "\n",
    "Q10 = Q9.index\n",
    "Q11 = Q9.columns"
   ]
  },
  {
   "cell_type": "code",
   "execution_count": 33,
   "id": "798393c3",
   "metadata": {},
   "outputs": [
    {
     "data": {
      "text/plain": [
       "A    1\n",
       "B    2\n",
       "C    3\n",
       "Name: numbers, dtype: int64"
      ]
     },
     "execution_count": 33,
     "metadata": {},
     "output_type": "execute_result"
    }
   ],
   "source": [
    "Q12 = Q9['numbers']"
   ]
  },
  {
   "cell_type": "code",
   "execution_count": null,
   "id": "0c11df7d",
   "metadata": {},
   "outputs": [],
   "source": []
  }
 ],
 "metadata": {
  "kernelspec": {
   "display_name": "Python 3 (ipykernel)",
   "language": "python",
   "name": "python3"
  },
  "language_info": {
   "codemirror_mode": {
    "name": "ipython",
    "version": 3
   },
   "file_extension": ".py",
   "mimetype": "text/x-python",
   "name": "python",
   "nbconvert_exporter": "python",
   "pygments_lexer": "ipython3",
   "version": "3.9.12"
  }
 },
 "nbformat": 4,
 "nbformat_minor": 5
}
