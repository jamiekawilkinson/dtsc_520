{
 "cells": [
  {
   "cell_type": "code",
   "execution_count": 1,
   "id": "86ed6449",
   "metadata": {},
   "outputs": [],
   "source": [
    "Q1 = 'Data Science for all!'"
   ]
  },
  {
   "cell_type": "code",
   "execution_count": 2,
   "id": "fe1e8e3e",
   "metadata": {},
   "outputs": [],
   "source": [
    "def Q2():\n",
    "    for i in Q1:\n",
    "        print(i)"
   ]
  },
  {
   "cell_type": "code",
   "execution_count": 4,
   "id": "31d9f1ab",
   "metadata": {},
   "outputs": [],
   "source": [
    "def Q3():\n",
    "    for i in Q1:\n",
    "        print('A')"
   ]
  },
  {
   "cell_type": "code",
   "execution_count": 6,
   "id": "582a2089",
   "metadata": {},
   "outputs": [
    {
     "data": {
      "text/plain": [
       "['DTSC 520', 'DTSC 550', 'DTSC 575', 'DTSC 600', 'DTSC 650']"
      ]
     },
     "execution_count": 6,
     "metadata": {},
     "output_type": "execute_result"
    }
   ],
   "source": [
    "Q4 = ['DTSC 520', 'DTSC 550', 'DTSC 575', 'DTSC 600', 'DTSC 650']"
   ]
  },
  {
   "cell_type": "code",
   "execution_count": 7,
   "id": "a36bedf0",
   "metadata": {},
   "outputs": [
    {
     "name": "stdout",
     "output_type": "stream",
     "text": [
      "DTSC 520\n",
      "DTSC 550\n",
      "DTSC 575\n",
      "DTSC 600\n",
      "DTSC 650\n"
     ]
    }
   ],
   "source": [
    "def Q5():\n",
    "    for i in Q4:\n",
    "        print(i)"
   ]
  },
  {
   "cell_type": "code",
   "execution_count": 8,
   "id": "217ac9f4",
   "metadata": {},
   "outputs": [
    {
     "name": "stdout",
     "output_type": "stream",
     "text": [
      "2\n",
      "4\n",
      "8\n",
      "16\n",
      "32\n"
     ]
    }
   ],
   "source": [
    "def Q6():\n",
    "    i = 2\n",
    "    while i < 50:\n",
    "        print(i)\n",
    "        i *= 2"
   ]
  },
  {
   "cell_type": "code",
   "execution_count": 9,
   "id": "92fc1a6e",
   "metadata": {},
   "outputs": [],
   "source": [
    "Q7 = [2, 3, 5, 7, 11, 13, 17, 19, 23, 29]"
   ]
  },
  {
   "cell_type": "code",
   "execution_count": 14,
   "id": "699fa124",
   "metadata": {},
   "outputs": [],
   "source": [
    "def Q8():\n",
    "    sum = 0\n",
    "    for i in range(len(Q7)):\n",
    "        sum += Q7[i]\n",
    "    return(sum)"
   ]
  },
  {
   "cell_type": "code",
   "execution_count": 15,
   "id": "6c819acd",
   "metadata": {},
   "outputs": [],
   "source": [
    "def Q9():\n",
    "    x = 3\n",
    "    counter = 0\n",
    "    while len(str(x)) < 21:\n",
    "        x = x**2\n",
    "        counter += 1\n",
    "    return(counter)"
   ]
  }
 ],
 "metadata": {
  "kernelspec": {
   "display_name": "Python 3 (ipykernel)",
   "language": "python",
   "name": "python3"
  },
  "language_info": {
   "codemirror_mode": {
    "name": "ipython",
    "version": 3
   },
   "file_extension": ".py",
   "mimetype": "text/x-python",
   "name": "python",
   "nbconvert_exporter": "python",
   "pygments_lexer": "ipython3",
   "version": "3.9.12"
  }
 },
 "nbformat": 4,
 "nbformat_minor": 5
}
