{
 "cells": [
  {
   "cell_type": "code",
   "execution_count": 22,
   "id": "6067d2df",
   "metadata": {},
   "outputs": [],
   "source": [
    "Q1 = 'Welcome to EU!'"
   ]
  },
  {
   "cell_type": "code",
   "execution_count": 23,
   "id": "446d6f6f",
   "metadata": {},
   "outputs": [],
   "source": [
    "Q2 = Q1[11:]"
   ]
  },
  {
   "cell_type": "code",
   "execution_count": 24,
   "id": "e5d4dba2",
   "metadata": {},
   "outputs": [],
   "source": [
    "Q3 = Q1[5:11]"
   ]
  },
  {
   "cell_type": "code",
   "execution_count": 25,
   "id": "e1fe7ece",
   "metadata": {},
   "outputs": [],
   "source": [
    "Q4 = ['Eric Camacho', 'Elmer Felicitas', 'Shankar Lucrece', 'Gitta Nevena', 'Rasmus Tarquinius']"
   ]
  },
  {
   "cell_type": "code",
   "execution_count": 26,
   "id": "f0d18f36",
   "metadata": {},
   "outputs": [],
   "source": [
    "Q5 = [7, '7', 'Seven', 7.0]"
   ]
  },
  {
   "cell_type": "code",
   "execution_count": 27,
   "id": "51cde58a",
   "metadata": {},
   "outputs": [],
   "source": [
    "Q6 = Q4[3:]"
   ]
  },
  {
   "cell_type": "code",
   "execution_count": 28,
   "id": "deb79aba",
   "metadata": {},
   "outputs": [],
   "source": [
    "Q7 = Q5[1:3]"
   ]
  },
  {
   "cell_type": "code",
   "execution_count": 29,
   "id": "c80b1ec9",
   "metadata": {},
   "outputs": [],
   "source": [
    "mylist = [4, 8, 11, 3, 19, 2, 5, 8, 12, 9]"
   ]
  },
  {
   "cell_type": "code",
   "execution_count": 30,
   "id": "2289106d",
   "metadata": {},
   "outputs": [],
   "source": [
    "Q8 = mylist[0:3]"
   ]
  },
  {
   "cell_type": "code",
   "execution_count": 51,
   "id": "6c65418e",
   "metadata": {},
   "outputs": [],
   "source": [
    "Q9 = [mylist[1]]\n",
    "Q9.extend(mylist[8:])"
   ]
  },
  {
   "cell_type": "code",
   "execution_count": null,
   "id": "6246f846",
   "metadata": {},
   "outputs": [],
   "source": [
    "Q10 = mylist[2:6]"
   ]
  },
  {
   "cell_type": "code",
   "execution_count": null,
   "id": "12203063",
   "metadata": {},
   "outputs": [],
   "source": [
    "Q11 = mylist[5:7]"
   ]
  }
 ],
 "metadata": {
  "kernelspec": {
   "display_name": "Python 3 (ipykernel)",
   "language": "python",
   "name": "python3"
  },
  "language_info": {
   "codemirror_mode": {
    "name": "ipython",
    "version": 3
   },
   "file_extension": ".py",
   "mimetype": "text/x-python",
   "name": "python",
   "nbconvert_exporter": "python",
   "pygments_lexer": "ipython3",
   "version": "3.9.12"
  }
 },
 "nbformat": 4,
 "nbformat_minor": 5
}
