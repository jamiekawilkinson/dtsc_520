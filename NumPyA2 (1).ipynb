{
 "cells": [
  {
   "cell_type": "code",
   "execution_count": 1,
   "id": "6019a94b",
   "metadata": {},
   "outputs": [],
   "source": [
    "import numpy as np"
   ]
  },
  {
   "cell_type": "code",
   "execution_count": 2,
   "id": "9e27e3fd",
   "metadata": {},
   "outputs": [],
   "source": [
    "np.random.seed(56)"
   ]
  },
  {
   "cell_type": "code",
   "execution_count": 3,
   "id": "083b37af",
   "metadata": {},
   "outputs": [],
   "source": [
    "Q1 = np.random.randint(20, size = (10,10))"
   ]
  },
  {
   "cell_type": "code",
   "execution_count": 4,
   "id": "d3897731",
   "metadata": {},
   "outputs": [],
   "source": [
    "Q2 = np.array(Q1[2:5,3:8])"
   ]
  },
  {
   "cell_type": "code",
   "execution_count": 5,
   "id": "e1d59e79",
   "metadata": {},
   "outputs": [],
   "source": [
    "Q3 = np.array(Q1[7:,4:6])"
   ]
  },
  {
   "cell_type": "code",
   "execution_count": 6,
   "id": "b7ec079b",
   "metadata": {},
   "outputs": [],
   "source": [
    "Q4 = Q3.reshape(2,3)"
   ]
  },
  {
   "cell_type": "code",
   "execution_count": 7,
   "id": "04f0fe09",
   "metadata": {},
   "outputs": [],
   "source": [
    "x = np.random.randint(15, size = 10)\n",
    "y = np.random.randint(15, size = 10)\n",
    "\n",
    "Q5 = np.concatenate([x,y])"
   ]
  },
  {
   "cell_type": "code",
   "execution_count": 8,
   "id": "b14c5bdd",
   "metadata": {},
   "outputs": [],
   "source": [
    "Q6a, Q6b, Q6c, Q6d = np.split(Q5,[4,11,17])"
   ]
  },
  {
   "cell_type": "code",
   "execution_count": 9,
   "id": "3141e19c",
   "metadata": {},
   "outputs": [],
   "source": [
    "Q7 = np.sum(Q5)"
   ]
  },
  {
   "cell_type": "code",
   "execution_count": 10,
   "id": "e182e029",
   "metadata": {},
   "outputs": [],
   "source": [
    "Q8 = np.random.randint(48, 86, size = 50)\n",
    "Q8 = np.mean(Q8)"
   ]
  },
  {
   "cell_type": "code",
   "execution_count": 11,
   "id": "9fea7538",
   "metadata": {},
   "outputs": [
    {
     "data": {
      "text/plain": [
       "array([('Jonathan Loaisiga', 'Baseball player',  595800.  ),\n",
       "       ('Nick Saban', 'Football coach', 8619934.23),\n",
       "       ('Katie Ladecky', 'Swimmer',  100000.  )],\n",
       "      dtype=[('Name', '<U20'), ('Occupation', '<U20'), ('Salary', '<f8')])"
      ]
     },
     "execution_count": 11,
     "metadata": {},
     "output_type": "execute_result"
    }
   ],
   "source": [
    "Q9 = np.array([('Jonathan Loaisiga', 'Baseball player', 595800.00), ('Nick Saban', 'Football coach', 8619934.23), ('Katie Ladecky','Swimmer', 100000.00)],\n",
    "             dtype=[('Name', 'U20'), ('Occupation', 'U20'), ('Salary', 'f8')])"
   ]
  }
 ],
 "metadata": {
  "kernelspec": {
   "display_name": "Python 3 (ipykernel)",
   "language": "python",
   "name": "python3"
  },
  "language_info": {
   "codemirror_mode": {
    "name": "ipython",
    "version": 3
   },
   "file_extension": ".py",
   "mimetype": "text/x-python",
   "name": "python",
   "nbconvert_exporter": "python",
   "pygments_lexer": "ipython3",
   "version": "3.9.12"
  }
 },
 "nbformat": 4,
 "nbformat_minor": 5
}
