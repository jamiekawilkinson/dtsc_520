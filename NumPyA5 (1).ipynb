{
 "cells": [
  {
   "cell_type": "code",
   "execution_count": 1,
   "id": "9a6b0897",
   "metadata": {},
   "outputs": [],
   "source": [
    "import numpy as np"
   ]
  },
  {
   "cell_type": "code",
   "execution_count": 2,
   "id": "479b8943",
   "metadata": {},
   "outputs": [],
   "source": [
    "np.random.seed(5)\n",
    "x = np.random.randint(0,15, size=20)"
   ]
  },
  {
   "cell_type": "code",
   "execution_count": 3,
   "id": "d10eecbb",
   "metadata": {},
   "outputs": [],
   "source": [
    "Q1 = x[3]"
   ]
  },
  {
   "cell_type": "code",
   "execution_count": 4,
   "id": "a578e9cf",
   "metadata": {},
   "outputs": [],
   "source": [
    "Q2 = x[8:20]"
   ]
  },
  {
   "cell_type": "code",
   "execution_count": 5,
   "id": "8009df2d",
   "metadata": {},
   "outputs": [],
   "source": [
    "Q3 = x[1:18:2]"
   ]
  },
  {
   "cell_type": "code",
   "execution_count": 6,
   "id": "05575a3e",
   "metadata": {},
   "outputs": [],
   "source": [
    "np.random.seed(6)\n",
    "y = np.random.randint(0,15, size=(7,8))"
   ]
  },
  {
   "cell_type": "code",
   "execution_count": 7,
   "id": "26e50df3",
   "metadata": {},
   "outputs": [],
   "source": [
    "Q4 = y[5, 3]"
   ]
  },
  {
   "cell_type": "code",
   "execution_count": 8,
   "id": "5418b961",
   "metadata": {},
   "outputs": [],
   "source": [
    "Q5 = y[:2:,5:]"
   ]
  },
  {
   "cell_type": "code",
   "execution_count": 9,
   "id": "9ada2b66",
   "metadata": {},
   "outputs": [],
   "source": [
    "np.random.seed(10)\n",
    "Q6 = np.random.randint(0,15, size=(4,5))"
   ]
  },
  {
   "cell_type": "code",
   "execution_count": 10,
   "id": "1bdcdea1",
   "metadata": {},
   "outputs": [],
   "source": [
    "Q6[2,2] = 4\n",
    "Q7 = Q6[1:,:3]"
   ]
  },
  {
   "cell_type": "code",
   "execution_count": 11,
   "id": "a2b6b465",
   "metadata": {},
   "outputs": [
    {
     "data": {
      "text/plain": [
       "array([[ 3,  4,  1,  9,  5],\n",
       "       [10,  8,  3,  8,  0],\n",
       "       [13,  5, 12,  1,  3],\n",
       "       [10, 11, 12, 13,  9]])"
      ]
     },
     "execution_count": 11,
     "metadata": {},
     "output_type": "execute_result"
    }
   ],
   "source": [
    "np.random.seed(8)\n",
    "Q8 = np.random.randint(0,15, size=(4,5))"
   ]
  },
  {
   "cell_type": "code",
   "execution_count": 18,
   "id": "fb6ca302",
   "metadata": {},
   "outputs": [
    {
     "data": {
      "text/plain": [
       "array([[10,  8,  3],\n",
       "       [13,  5,  4],\n",
       "       [10, 11, 12]])"
      ]
     },
     "execution_count": 18,
     "metadata": {},
     "output_type": "execute_result"
    }
   ],
   "source": [
    "Q9 = np.copy(Q8)\n",
    "Q9[2,2] = 4\n",
    "Q9 = Q9[1:,:3]"
   ]
  },
  {
   "cell_type": "code",
   "execution_count": 13,
   "id": "0b0ce7e1",
   "metadata": {},
   "outputs": [],
   "source": [
    "np.random.seed(20)\n",
    "Q10 = np.random.randint(0,15, size=(2,6))\n",
    "Q10 = Q10.reshape(4,3)"
   ]
  },
  {
   "cell_type": "code",
   "execution_count": 14,
   "id": "06f58c4b",
   "metadata": {},
   "outputs": [],
   "source": [
    "np.random.seed(15)\n",
    "Q11 = np.random.randint(15, size=10)\n",
    "Q11 = Q11.reshape(10,1)"
   ]
  },
  {
   "cell_type": "code",
   "execution_count": 15,
   "id": "21d3334d",
   "metadata": {},
   "outputs": [],
   "source": [
    "np.random.seed(9)\n",
    "Q12 = np.random.randint(15, size=(5,3))\n",
    "Q12 = np.copy(Q12[3,:])"
   ]
  }
 ],
 "metadata": {
  "kernelspec": {
   "display_name": "Python 3 (ipykernel)",
   "language": "python",
   "name": "python3"
  },
  "language_info": {
   "codemirror_mode": {
    "name": "ipython",
    "version": 3
   },
   "file_extension": ".py",
   "mimetype": "text/x-python",
   "name": "python",
   "nbconvert_exporter": "python",
   "pygments_lexer": "ipython3",
   "version": "3.9.12"
  }
 },
 "nbformat": 4,
 "nbformat_minor": 5
}
