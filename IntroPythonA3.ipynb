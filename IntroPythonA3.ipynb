{
 "cells": [
  {
   "cell_type": "code",
   "execution_count": null,
   "id": "10a3fa60",
   "metadata": {},
   "outputs": [],
   "source": [
    "Q1 = ['one',1,1.0]"
   ]
  },
  {
   "cell_type": "code",
   "execution_count": null,
   "id": "a3459b8f",
   "metadata": {},
   "outputs": [],
   "source": [
    "Q2 = ['two',2,2.0]\n",
    "Q2[1] = 'dos'"
   ]
  },
  {
   "cell_type": "code",
   "execution_count": null,
   "id": "9f98ac52",
   "metadata": {},
   "outputs": [],
   "source": [
    "Q3 = ['three',3,3.0]\n",
    "Q3.append('tres')"
   ]
  },
  {
   "cell_type": "code",
   "execution_count": null,
   "id": "c5aae1c9",
   "metadata": {},
   "outputs": [],
   "source": [
    "q4a = ['four',4,4.0]\n",
    "q4b = ['eight',8,8.0,'ocho']\n",
    "Q4 = q4a + q4b"
   ]
  },
  {
   "cell_type": "code",
   "execution_count": null,
   "id": "e7aaabbc",
   "metadata": {},
   "outputs": [],
   "source": [
    "q5a = ['five',5]\n",
    "q5b = ['nine',9,9.0,'nueve']\n",
    "Q5 = q5a + [q5b]"
   ]
  },
  {
   "cell_type": "code",
   "execution_count": null,
   "id": "35ab2c5c",
   "metadata": {},
   "outputs": [],
   "source": [
    "Q6 = len(q5b)"
   ]
  },
  {
   "cell_type": "code",
   "execution_count": null,
   "id": "c2a5e33f",
   "metadata": {},
   "outputs": [],
   "source": [
    "Q7 = q5b*3"
   ]
  },
  {
   "cell_type": "code",
   "execution_count": null,
   "id": "51e8383a",
   "metadata": {},
   "outputs": [],
   "source": [
    "Q8 = Q5[-1]"
   ]
  }
 ],
 "metadata": {
  "kernelspec": {
   "display_name": "Python 3 (ipykernel)",
   "language": "python",
   "name": "python3"
  },
  "language_info": {
   "codemirror_mode": {
    "name": "ipython",
    "version": 3
   },
   "file_extension": ".py",
   "mimetype": "text/x-python",
   "name": "python",
   "nbconvert_exporter": "python",
   "pygments_lexer": "ipython3",
   "version": "3.9.12"
  }
 },
 "nbformat": 4,
 "nbformat_minor": 5
}
