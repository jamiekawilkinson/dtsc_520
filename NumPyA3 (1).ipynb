{
 "cells": [
  {
   "cell_type": "code",
   "execution_count": 1,
   "id": "e30c0626",
   "metadata": {},
   "outputs": [],
   "source": [
    "import numpy as np"
   ]
  },
  {
   "cell_type": "code",
   "execution_count": 2,
   "id": "a5bcc02b",
   "metadata": {},
   "outputs": [],
   "source": [
    "np.random.seed(77)"
   ]
  },
  {
   "cell_type": "code",
   "execution_count": 3,
   "id": "20a148e4",
   "metadata": {},
   "outputs": [
    {
     "data": {
      "text/plain": [
       "array([[23, 31, 20, 20, 43, 37],\n",
       "       [24, 31, 32, 39, 44, 19],\n",
       "       [32, 36, 36, 47, 14, 15],\n",
       "       [10,  7, 35,  1, 11, 17],\n",
       "       [ 6, 20, 37, 33, 40,  1],\n",
       "       [42,  4, 29, 41, 28,  0],\n",
       "       [28, 40, 25, 37, 11,  3],\n",
       "       [18, 36, 21, 22, 45, 14]])"
      ]
     },
     "execution_count": 3,
     "metadata": {},
     "output_type": "execute_result"
    }
   ],
   "source": [
    "Q1 = np.random.randint(51, size=(8,6))"
   ]
  },
  {
   "cell_type": "code",
   "execution_count": 4,
   "id": "29d23086",
   "metadata": {},
   "outputs": [
    {
     "data": {
      "text/plain": [
       "array([[14, 15],\n",
       "       [11, 17],\n",
       "       [40,  1],\n",
       "       [28,  0],\n",
       "       [11,  3]])"
      ]
     },
     "execution_count": 4,
     "metadata": {},
     "output_type": "execute_result"
    }
   ],
   "source": [
    "Q2 = np.array(Q1[2:7,4:])"
   ]
  },
  {
   "cell_type": "code",
   "execution_count": 5,
   "id": "c28b61b1",
   "metadata": {},
   "outputs": [
    {
     "data": {
      "text/plain": [
       "array([[47, 14],\n",
       "       [ 1, 11],\n",
       "       [33, 40],\n",
       "       [41, 28],\n",
       "       [37, 11],\n",
       "       [22, 45]])"
      ]
     },
     "execution_count": 5,
     "metadata": {},
     "output_type": "execute_result"
    }
   ],
   "source": [
    "Q3 = np.array(Q1[2:,3:5])"
   ]
  },
  {
   "cell_type": "code",
   "execution_count": 6,
   "id": "66f43d53",
   "metadata": {},
   "outputs": [
    {
     "data": {
      "text/plain": [
       "array([[47, 14,  1, 11, 33, 40],\n",
       "       [41, 28, 37, 11, 22, 45]])"
      ]
     },
     "execution_count": 6,
     "metadata": {},
     "output_type": "execute_result"
    }
   ],
   "source": [
    "Q4 = Q3.reshape(2,6)"
   ]
  },
  {
   "cell_type": "code",
   "execution_count": 7,
   "id": "440df677",
   "metadata": {},
   "outputs": [
    {
     "data": {
      "text/plain": [
       "array([[47, 14,  1, 11],\n",
       "       [33, 40, 41, 28],\n",
       "       [37, 11, 22, 45]])"
      ]
     },
     "execution_count": 7,
     "metadata": {},
     "output_type": "execute_result"
    }
   ],
   "source": [
    "Q5 = Q4.reshape(3,4)"
   ]
  },
  {
   "cell_type": "code",
   "execution_count": 10,
   "id": "ff9ed8e3",
   "metadata": {},
   "outputs": [
    {
     "data": {
      "text/plain": [
       "array([('Janetta', 'Lydia', 58, 58), ('Deb', 'Albin', 68, 50),\n",
       "       ('Minato', 'Vanja', 78, 38), ('Maurine', 'Peter', 77, 57),\n",
       "       ('Niketas', 'Justine', 70, 60)],\n",
       "      dtype=[('Name', '<U20'), ('Last', '<U20'), ('Height', '<i2'), ('Age', '<i2')])"
      ]
     },
     "execution_count": 10,
     "metadata": {},
     "output_type": "execute_result"
    }
   ],
   "source": [
    "Q6 = np.array([('Janetta','Lydia',58,58), ('Deb','Albin',68,50), ('Minato','Vanja',78,38), ('Maurine','Peter',77,57), ('Niketas','Justine',70,60)], dtype=[('Name', 'U20'), ('Last', 'U20'), ('Height', 'int16'), ('Age', 'int16')])"
   ]
  },
  {
   "cell_type": "code",
   "execution_count": null,
   "id": "c82261ef",
   "metadata": {},
   "outputs": [],
   "source": []
  }
 ],
 "metadata": {
  "kernelspec": {
   "display_name": "Python 3 (ipykernel)",
   "language": "python",
   "name": "python3"
  },
  "language_info": {
   "codemirror_mode": {
    "name": "ipython",
    "version": 3
   },
   "file_extension": ".py",
   "mimetype": "text/x-python",
   "name": "python",
   "nbconvert_exporter": "python",
   "pygments_lexer": "ipython3",
   "version": "3.9.12"
  }
 },
 "nbformat": 4,
 "nbformat_minor": 5
}
