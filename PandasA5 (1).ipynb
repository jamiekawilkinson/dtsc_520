{
 "cells": [
  {
   "cell_type": "code",
   "execution_count": 1,
   "id": "8c6cea25",
   "metadata": {},
   "outputs": [],
   "source": [
    "import numpy as np\n",
    "import pandas as pd"
   ]
  },
  {
   "cell_type": "code",
   "execution_count": 2,
   "id": "423513e0",
   "metadata": {},
   "outputs": [],
   "source": [
    "np.random.seed(12)"
   ]
  },
  {
   "cell_type": "code",
   "execution_count": 3,
   "id": "119e9838",
   "metadata": {},
   "outputs": [],
   "source": [
    "index = [('One',1), ('One', 2),\n",
    "        ('Two', 1), ('Two',2),\n",
    "        ('Three',1), ('Three',2)]\n",
    "numbers = [11,111,22,222,33,333]\n",
    "\n",
    "q1 = pd.Series(numbers, index = index)\n",
    "\n",
    "index = pd.MultiIndex.from_tuples(index, names=[\"Words\", \"Numbers\"])\n",
    "Q1 = q1.reindex(index)"
   ]
  },
  {
   "cell_type": "code",
   "execution_count": 4,
   "id": "203c3e34",
   "metadata": {},
   "outputs": [],
   "source": [
    "Q2 = Q1['Three']"
   ]
  },
  {
   "cell_type": "code",
   "execution_count": 5,
   "id": "a2d899e3",
   "metadata": {},
   "outputs": [],
   "source": [
    "Q3 = Q1[:,2]"
   ]
  },
  {
   "cell_type": "code",
   "execution_count": 6,
   "id": "39453cf3",
   "metadata": {},
   "outputs": [],
   "source": [
    "Q4 = Q1.unstack()"
   ]
  },
  {
   "cell_type": "code",
   "execution_count": 7,
   "id": "119081f0",
   "metadata": {},
   "outputs": [],
   "source": [
    "Q5 = Q4.sum()"
   ]
  },
  {
   "cell_type": "code",
   "execution_count": 8,
   "id": "173f33f6",
   "metadata": {},
   "outputs": [],
   "source": [
    "q6index = [('1','a'), ('1','b'),\n",
    "        ('2', 'a'), ('2','b'),\n",
    "        ('3','a'), ('3','b')]\n",
    "q6_df = pd.DataFrame(np.random.randint(9, size=(6,2)),\n",
    "                    index = q6index,\n",
    "                    columns=['A','B'])\n",
    "\n",
    "q6index = pd.MultiIndex.from_tuples(q6index)\n",
    "#q6index\n",
    "\n",
    "Q6 = q6_df.reindex(q6index)"
   ]
  },
  {
   "cell_type": "code",
   "execution_count": 9,
   "id": "80a11ef1",
   "metadata": {},
   "outputs": [],
   "source": [
    "q7index = pd.MultiIndex.from_product([['ONE','TWO','THREE'],['one','two']],\n",
    "                                    names = ['Number','number'])\n",
    "q7col = pd.MultiIndex.from_product([['A','B'],['a','b','c','d']],\n",
    "                                  names = ['Letter','letter'])\n",
    "q7data = np.random.randint(20, size=(6,8))\n",
    "Q7 = pd.DataFrame(q7data, index = q7index, columns = q7col)"
   ]
  },
  {
   "cell_type": "code",
   "execution_count": 10,
   "id": "231ba803",
   "metadata": {},
   "outputs": [],
   "source": [
    "Q8 = Q7['B']"
   ]
  },
  {
   "cell_type": "code",
   "execution_count": 11,
   "id": "c4530061",
   "metadata": {},
   "outputs": [],
   "source": [
    "q9data1 = {'ONE':7,'TWO':8,'THREE':9,'FOUR':10}\n",
    "q9data2 = {'THREE':11,'FOUR':12,'FIVE':13,'SIX':14}\n",
    "q9ser1 = pd.Series(q9data1, index =['ONE','TWO','THREE','FOUR'])\n",
    "q9ser2 = pd.Series(q9data2, index=['THREE','FOUR','FIVE','SIX'])\n",
    "\n",
    "Q9 = pd.concat([q9ser1, q9ser2], axis = 1)"
   ]
  },
  {
   "cell_type": "code",
   "execution_count": 12,
   "id": "dff119bc",
   "metadata": {},
   "outputs": [],
   "source": [
    "Q10 = pd.concat([q9ser1, q9ser2])"
   ]
  },
  {
   "cell_type": "code",
   "execution_count": 13,
   "id": "7634a3f1",
   "metadata": {},
   "outputs": [],
   "source": [
    "Q11 = pd.concat([q9ser1, q9ser2], keys=['A', 'B'])"
   ]
  },
  {
   "cell_type": "code",
   "execution_count": 29,
   "id": "062e880b",
   "metadata": {},
   "outputs": [
    {
     "data": {
      "text/html": [
       "<div>\n",
       "<style scoped>\n",
       "    .dataframe tbody tr th:only-of-type {\n",
       "        vertical-align: middle;\n",
       "    }\n",
       "\n",
       "    .dataframe tbody tr th {\n",
       "        vertical-align: top;\n",
       "    }\n",
       "\n",
       "    .dataframe thead th {\n",
       "        text-align: right;\n",
       "    }\n",
       "</style>\n",
       "<table border=\"1\" class=\"dataframe\">\n",
       "  <thead>\n",
       "    <tr style=\"text-align: right;\">\n",
       "      <th></th>\n",
       "      <th>A</th>\n",
       "      <th>B</th>\n",
       "    </tr>\n",
       "  </thead>\n",
       "  <tbody>\n",
       "    <tr>\n",
       "      <th>FIVE</th>\n",
       "      <td>NaN</td>\n",
       "      <td>13.0</td>\n",
       "    </tr>\n",
       "    <tr>\n",
       "      <th>FOUR</th>\n",
       "      <td>10.0</td>\n",
       "      <td>12.0</td>\n",
       "    </tr>\n",
       "    <tr>\n",
       "      <th>ONE</th>\n",
       "      <td>7.0</td>\n",
       "      <td>NaN</td>\n",
       "    </tr>\n",
       "    <tr>\n",
       "      <th>SIX</th>\n",
       "      <td>NaN</td>\n",
       "      <td>14.0</td>\n",
       "    </tr>\n",
       "    <tr>\n",
       "      <th>THREE</th>\n",
       "      <td>9.0</td>\n",
       "      <td>11.0</td>\n",
       "    </tr>\n",
       "    <tr>\n",
       "      <th>TWO</th>\n",
       "      <td>8.0</td>\n",
       "      <td>NaN</td>\n",
       "    </tr>\n",
       "    <tr>\n",
       "      <th>SEVEN</th>\n",
       "      <td>NaN</td>\n",
       "      <td>15.0</td>\n",
       "    </tr>\n",
       "    <tr>\n",
       "      <th>EIGHT</th>\n",
       "      <td>NaN</td>\n",
       "      <td>16.0</td>\n",
       "    </tr>\n",
       "  </tbody>\n",
       "</table>\n",
       "</div>"
      ],
      "text/plain": [
       "          A     B\n",
       "FIVE    NaN  13.0\n",
       "FOUR   10.0  12.0\n",
       "ONE     7.0   NaN\n",
       "SIX     NaN  14.0\n",
       "THREE   9.0  11.0\n",
       "TWO     8.0   NaN\n",
       "SEVEN   NaN  15.0\n",
       "EIGHT   NaN  16.0"
      ]
     },
     "execution_count": 29,
     "metadata": {},
     "output_type": "execute_result"
    }
   ],
   "source": [
    "q12data = {'SEVEN':15,'EIGHT':16}\n",
    "q12 = pd.Series(q12data, index = ['SEVEN','EIGHT'])\n",
    "q12 = pd.DataFrame(q12, columns=['B'])\n",
    "\n",
    "q9 = pd.concat([q9ser1, q9ser2], axis = 1)\n",
    "q9.columns = ['A','B']\n",
    "\n",
    "Q12 = pd.concat([q9.iloc[[4]], q9.iloc[[3]], q9.iloc[[0]], q9.iloc[[5]], q9.iloc[[2]], q9.iloc[[1]], q12])"
   ]
  },
  {
   "cell_type": "code",
   "execution_count": null,
   "id": "aee80147",
   "metadata": {},
   "outputs": [],
   "source": []
  },
  {
   "cell_type": "code",
   "execution_count": null,
   "id": "0984d784",
   "metadata": {},
   "outputs": [],
   "source": []
  }
 ],
 "metadata": {
  "kernelspec": {
   "display_name": "Python 3 (ipykernel)",
   "language": "python",
   "name": "python3"
  },
  "language_info": {
   "codemirror_mode": {
    "name": "ipython",
    "version": 3
   },
   "file_extension": ".py",
   "mimetype": "text/x-python",
   "name": "python",
   "nbconvert_exporter": "python",
   "pygments_lexer": "ipython3",
   "version": "3.9.12"
  }
 },
 "nbformat": 4,
 "nbformat_minor": 5
}
